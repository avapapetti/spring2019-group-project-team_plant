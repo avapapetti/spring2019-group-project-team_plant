{
 "cells": [
  {
   "cell_type": "markdown",
   "metadata": {
    "colab_type": "text",
    "id": "23GOzOEqfQpE",
    "slideshow": {
     "slide_type": "slide"
    }
   },
   "source": [
    "# Choosing a Houseplant"
   ]
  },
  {
   "cell_type": "markdown",
   "metadata": {
    "slideshow": {
     "slide_type": "subslide"
    }
   },
   "source": [
    "Goals for the project:\n",
    "- Create a quiz that identifies which houseplant best matches an individual's preferences\n",
    "- Create a graphical user interface (GUI) that can be used to obtain user responses\n",
    "- Identify plants from a database which best match with user responses\n",
    "- Display characteristics of final plant selected"
   ]
  },
  {
   "cell_type": "markdown",
   "metadata": {
    "slideshow": {
     "slide_type": "slide"
    }
   },
   "source": [
    "# Initializing \n",
    "\n",
    "Importing packages, loading in csv data files, and initializing quiz questions and options"
   ]
  },
  {
   "cell_type": "code",
   "execution_count": null,
   "metadata": {
    "colab": {},
    "colab_type": "code",
    "id": "-i5Fa_tOnLHN",
    "slideshow": {
     "slide_type": "subslide"
    }
   },
   "outputs": [],
   "source": [
    "# Import Packages\n",
    "\n",
    "import os, sys, csv, random\n",
    "import matplotlib.pyplot as plt\n",
    "import numpy as np\n",
    "from skimage import io\n",
    "import seaborn as sns\n",
    "import pandas as pd\n",
    "from PIL import Image\n",
    "from ipywidgets import widgets\n",
    "from IPython.display import display"
   ]
  },
  {
   "cell_type": "code",
   "execution_count": null,
   "metadata": {
    "colab": {
     "base_uri": "https://localhost:8080/",
     "height": 525
    },
    "colab_type": "code",
    "id": "qUUOIbwDgI-z",
    "outputId": "be62dd13-ccb0-4728-9ce0-0c7b3f3bd166",
    "scrolled": true,
    "slideshow": {
     "slide_type": "subslide"
    }
   },
   "outputs": [],
   "source": [
    "# Load in the dataset\n",
    "\n",
    "path_to_orig_csv = 'https://raw.githubusercontent.com/biof309/spring2019-group-project-team_plant/master/src/myproject/Plant_Dataset_final.csv'\n",
    "plant_orig_ds = pd.read_csv(path_to_orig_csv)\n",
    "\n",
    "path_to_csv = \"https://raw.githubusercontent.com/biof309/spring2019-group-project-team_plant/master/src/myproject/Plant%20Dataset_scale.csv\"\n",
    "plant_ds = pd.read_csv(path_to_csv)\n",
    "\n",
    "plant_orig_ds.head()"
   ]
  },
  {
   "cell_type": "code",
   "execution_count": null,
   "metadata": {
    "colab": {},
    "colab_type": "code",
    "id": "ApUPavARMZEX",
    "slideshow": {
     "slide_type": "subslide"
    }
   },
   "outputs": [],
   "source": [
    "# List of Questions and Options\n",
    "\n",
    "questionlist = [\n",
    "    \"What size plant are you looking for?\",\n",
    "    \"What size pot do you prefer?\",\n",
    "    \"How much light will your indoor plant have?\",\n",
    "    \"Do you want a plant that cleans the air?\", #This is for clean air plant\n",
    "    \"Do you have a child or pet?\", #This is for toxicity\n",
    "    \"Did you want this plant to flower?\", \n",
    "    \"How much temperature fluctuation will this plant encounter?\", #This is for plant durability\n",
    "    \"Did you want to give this plant for a special occasion?\",\n",
    "    \"How much work do you want to do on this plant?\", #This is for pruning\n",
    "    \"Do you tend to underwater or overwater?\",\n",
    "    \"How humid is your home?\"   \n",
    "]\n",
    "\n",
    "optionlist = [\n",
    "    [\"Small\", \"Medium\", \"Large\"],\n",
    "    [\"Small\", \"Medium\", \"Large\"],\n",
    "    [\"Low\",\"Medium\",\"High\"], \n",
    "    [\"Yes\",\"No\", \"Does not matter\"],#doesn't matter=yes and no\n",
    "    [\"Yes\", \"No\", \"Does not matter\"], #Yes= toxicity is 0, No= all other ones\n",
    "    [\"Yes\", \"No\",\"Does not matter\"], #doesn't matter=everything \n",
    "    [\"Low\", \"Medium\", \"High\"], \n",
    "    [\"Yes\", \"No\", \"Does not matter\"], #doesn't matter=everything\n",
    "    [\"Minimal\",\"Lots\",\"Does not matter\"], #minimal=none, lots=regular, doesn't matter=anything\n",
    "    [\"Underwater\",\"Overwater\",\"Does not matter\"], #underwater=low, overwater=high, no=anything\n",
    "    [\"Low\",\"Medium\",\"High\"]\n",
    "]"
   ]
  },
  {
   "cell_type": "markdown",
   "metadata": {
    "slideshow": {
     "slide_type": "slide"
    }
   },
   "source": [
    "# Taking the Plant Quiz\n",
    "\n",
    "Setting up the plant quiz and launching the GUI"
   ]
  },
  {
   "cell_type": "code",
   "execution_count": null,
   "metadata": {
    "slideshow": {
     "slide_type": "subslide"
    }
   },
   "outputs": [],
   "source": [
    "# Import packages and define quiz\n",
    "\n",
    "import tkinter as tk\n",
    "import tkinter.messagebox\n",
    "from ipywidgets import widgets\n",
    "from IPython.display import display\n",
    "\n",
    "def main(args=None):\n",
    "    '''\n",
    "    main creats the plant quiz application and main loop\n",
    "    '''\n",
    "    app = PlantQuiz() # creating the object for Application class()\n",
    "    app.master.title('Plant Quiz')\n",
    "    app.mainloop()\n",
    "    return app\n",
    "\n",
    "# Style from: https://github.com/abhijitnathwani/PyQuiz/blob/master/build/lib.linux-x86_64-2.7/py_quiz/__main__.py"
   ]
  },
  {
   "cell_type": "code",
   "execution_count": null,
   "metadata": {
    "colab": {
     "base_uri": "https://localhost:8080/",
     "height": 375
    },
    "colab_type": "code",
    "id": "9L_n_OjALd96",
    "outputId": "82bab118-380b-48d4-ba6d-841a825034fa",
    "slideshow": {
     "slide_type": "subslide"
    }
   },
   "outputs": [],
   "source": [
    "# GUI code for quiz questions:\n",
    "class PlantQuiz(tk.Frame):     # Class PlantQuiz \n",
    "    '''\n",
    "    The class PlantQuiz, which includes definitions for starting a game, creating the buttons, quitting, \n",
    "    loading questions, going to the next question, and storing the user's answers.\n",
    "    '''\n",
    "    def __init__(self, master=None):\n",
    "        tkinter.messagebox.showinfo('Welcome!','Are you ready to find out which house plant best suits you??')\n",
    "        tk.Frame.__init__(self, master)\n",
    "        self.flag=0\n",
    "        self.qn = 0\n",
    "        self.anslist = [None]*len(questionlist)\n",
    "        self.grid()\n",
    "        # declaring variables to store question and answer\n",
    "        self.optionA = tk.StringVar() # control variable for option A\n",
    "        self.optionB = tk.StringVar() # control variable for option B\n",
    "        self.optionC = tk.StringVar() # control variable for option C\n",
    "        self.selected_answer = tk.StringVar() # variable to get the selected answer\n",
    "        self.question = tk.StringVar() # control variable for the question to be loaded\n",
    "        self.questions = questionlist\n",
    "        top = self.winfo_toplevel()\n",
    "        self.createWidgets(top) # call to create the necessary widgets\n",
    "        self.load_question(top) # load the first question\n",
    "\n",
    "    def new_game(self,top):\n",
    "        '''Starts the plant quiz'''\n",
    "        self.load_question(top)\n",
    "\n",
    "    def confirm_quit(self):\n",
    "        '''Displays a message box asking if you want to quit- if yes, destroys.'''\n",
    "        choice = tkinter.messagebox.askyesno('Quit the Quiz','Do you really want to quit?')\n",
    "        if choice == True:\n",
    "            self.destroy()\n",
    "        elif choice == False:\n",
    "            pass\n",
    "\n",
    "    def set_ans(self,answer):\n",
    "        '''Sets the answer to 1, 2, or 3 depending on which answer you select.'''\n",
    "        if answer==1:\n",
    "            self.selected_answer = 1\n",
    "        elif answer==2:\n",
    "            self.selected_answer = 2\n",
    "        elif answer == 3:\n",
    "            self.selected_answer = 3\n",
    "        self.flag=1\n",
    "\n",
    "    def store_ans(self):\n",
    "        '''Stores the user responses for each question.'''\n",
    "        self.anslist[self.qn] = self.selected_answer\n",
    "        #print(str(self.selected_answer))\n",
    "\n",
    "    def load_question(self,top):\n",
    "        '''Loads the next question from the question list.'''\n",
    "        self.radioButtonA.select() # sets the first radio button as the default\n",
    "        self.radioButtonA.deselect()\n",
    "        \n",
    "        self.answers = optionlist[self.qn]\n",
    "        self.question.set(questionlist[self.qn])\n",
    "        #length=len(self.question.get())  # get the length of the question\n",
    "        #width=str(100+10*length)\n",
    "        width=str(500) #500\n",
    "        height=str(300) #180\n",
    "        top.geometry(width+\"x\"+height)\n",
    "        \n",
    "        self.optionA.set(optionlist[self.qn][0])\n",
    "        self.optionB.set(optionlist[self.qn][1])\n",
    "        self.optionC.set(optionlist[self.qn][2])\n",
    "\n",
    "    def next_btn(self, top):\n",
    "        '''Displays the next button and launches next question unless the quiz is finished.'''\n",
    "        #print(\"self.qn: \", self.qn)\n",
    "        self.store_ans()\n",
    "        \n",
    "        if self.qn >= (len(questionlist)-1):\n",
    "            self.store_ans()\n",
    "            tkinter.messagebox.showinfo('Bye!','You are finished! Click ok to calculate results.')\n",
    "            self.destroy()\n",
    "        else: \n",
    "            self.qn = self.qn + 1\n",
    "            self.load_question(top)\n",
    " \n",
    "    def createWidgets(self,top):\n",
    "        ''' Creates the widget buttons and defines where they are displayed.'''\n",
    "        # Creates widget buttons\n",
    "        top.resizable(True,True)\n",
    "        top.grid_columnconfigure(0,weight=1)\n",
    "        top.grid_columnconfigure(9,weight=1)\n",
    "        top.grid_rowconfigure(0,weight=1)\n",
    "        top.grid_rowconfigure(9,weight=1)\n",
    "\n",
    "        #Creating the buttons\n",
    "        self.quitButton = tk.Button(self, text='Quit', command=self.confirm_quit)\n",
    "        self.nextButton = tk.Button(self, text='Next', command=lambda: self.next_btn(top))\n",
    "\n",
    "        #Creating Radio buttons for options\n",
    "        self.radioButtonA = tk.Radiobutton(self,anchor='w', \n",
    "                            textvariable=self.optionA, \n",
    "                            variable = self.selected_answer, \n",
    "                            value = 'A',\n",
    "                            command = lambda: self.set_ans(1)) # the radio button call 'set_ans()' with the number to set the 'selected_answer' variable\n",
    "        self.radioButtonB = tk.Radiobutton(self,anchor='w',\n",
    "                            textvariable=self.optionB, \n",
    "                            variable = self.selected_answer,\n",
    "                            value = 'B', \n",
    "                            command = lambda: self.set_ans(2))\n",
    "        self.radioButtonC = tk.Radiobutton(self,anchor='w',\n",
    "                            textvariable=self.optionC, \n",
    "                            variable = self.selected_answer, \n",
    "                            value = 'C', \n",
    "                            command = lambda: self.set_ans(3))\n",
    "\n",
    "        #Creating the labels for options and questions\n",
    "            \n",
    "        self.label_question = tk.Label(self,textvariable=self.question)\n",
    "        \n",
    "        #Packing the widgets in the grid\n",
    "\n",
    "        self.label_question.grid(column=3,row=1,columnspan=4)\n",
    "        self.radioButtonA.grid(column=4,row=2, columnspan=3,sticky=tk.N+tk.S+tk.W+tk.E)\n",
    "        self.radioButtonB.grid(column=4,row=3, columnspan=3,sticky=tk.N+tk.S+tk.W+tk.E)\n",
    "        self.radioButtonC.grid(column=4,row=4, columnspan=3,sticky=tk.N+tk.S+tk.W+tk.E)\n",
    "            \n",
    "        self.quitButton.grid(column=6,row=5) #,sticky=tk.N+tk.S+tk.W+tk.E)\n",
    "        self.nextButton.grid(column=3,row=5) #,sticky=tk.N+tk.S+tk.W+tk.E)\n",
    "        \n"
   ]
  },
  {
   "cell_type": "code",
   "execution_count": null,
   "metadata": {
    "slideshow": {
     "slide_type": "subslide"
    }
   },
   "outputs": [],
   "source": [
    "# Launch the quiz\n",
    "\n",
    "if __name__ == \"__main__\":\n",
    "    myquiz = main()\n",
    "    \n",
    "# The variable that saves the quiz answers is called myquiz.anslist:\n"
   ]
  },
  {
   "cell_type": "markdown",
   "metadata": {
    "colab_type": "text",
    "id": "0lp-xwmgjFok",
    "slideshow": {
     "slide_type": "slide"
    }
   },
   "source": [
    "# Plant Selection Mechanism\n",
    "\n",
    "Takes user responses from PlantQuiz and creates a matrix of 0s and 1s to match against the plant dataset\n",
    "\n",
    "The plant row with the most 1s will have the highest score"
   ]
  },
  {
   "cell_type": "code",
   "execution_count": null,
   "metadata": {
    "colab": {
     "base_uri": "https://localhost:8080/",
     "height": 2105
    },
    "colab_type": "code",
    "id": "6aQru8W3s5Xh",
    "outputId": "4edd1d2b-2660-461f-dccb-6941ad1d9960",
    "slideshow": {
     "slide_type": "subslide"
    }
   },
   "outputs": [],
   "source": [
    "# Converting user response list to dataframe\n",
    "\n",
    "user_resp = myquiz.anslist\n",
    "user_resp_df = pd.DataFrame(np.array(user_resp).reshape(1,11)) \n",
    "\n",
    "# Creating a 1's and 0's dataframe\n",
    "\n",
    "    # Question 1\n",
    "plant_ds['PlantSize'] = (plant_ds['PlantSize'] == user_resp_df.loc[0,0]).astype(int)\n",
    "\n",
    "    # Question 2\n",
    "plant_ds['PotSize '] = (plant_ds['PotSize '] == user_resp_df.loc[0,1]).astype(int)\n",
    "\n",
    "    # Question 3\n",
    "plant_ds['Light '] = (plant_ds['Light '] == user_resp_df.loc[0,2]).astype(int)\n",
    "\n",
    "    # Question 4\n",
    "if (user_resp_df.loc[0,3]).astype(int) == 3:\n",
    "    plant_ds['CleanAirPlant'] = 1\n",
    "else:\n",
    "    plant_ds['CleanAirPlant'] = (plant_ds['CleanAirPlant'] == user_resp_df.loc[0,3]).astype(int)\n",
    "  \n",
    "    # Question 5\n",
    "if (user_resp_df.loc[0,4]).astype(int) == 3:\n",
    "    plant_ds['Toxicitylevel'] = 1\n",
    "else:  \n",
    "    plant_ds['Toxicitylevel'] = (plant_ds['Toxicitylevel'] == user_resp_df.loc[0,4]).astype(int)\n",
    "\n",
    "    # Question 6\n",
    "if (user_resp_df.loc[0,5]).astype(int) == 3:\n",
    "    plant_ds['Flowering '] = 1\n",
    "else:\n",
    "    plant_ds['Flowering '] = (plant_ds['Flowering '] == user_resp_df.loc[0,5]).astype(int)\n",
    "\n",
    "    # Question 7\n",
    "plant_ds['TempDurability'] = (plant_ds['TempDurability'] == user_resp_df.loc[0,6]).astype(int)\n",
    "\n",
    "    # Question 8\n",
    "if (user_resp_df.loc[0,7]).astype(int) == 3:\n",
    "    plant_ds['SpecialOccasion '] = 1\n",
    "else:\n",
    "    plant_ds['SpecialOccasion '] = (plant_ds['SpecialOccasion '] == user_resp_df.loc[0,7]).astype(int)\n",
    "\n",
    "    # Question 9\n",
    "if (user_resp_df.loc[0,8]).astype(int) == 3:\n",
    "    plant_ds['Pruning '] = 1\n",
    "else:\n",
    "    plant_ds['Pruning '] = (plant_ds['Pruning '] == user_resp_df.loc[0,8]).astype(int)\n",
    "\n",
    "    # Question 10\n",
    "if (user_resp_df.loc[0,9]).astype(int) == 3:\n",
    "    plant_ds['Water '] = 1\n",
    "else:  \n",
    "    plant_ds['Water '] = (plant_ds['Water '] == user_resp_df.loc[0,9]).astype(int)\n",
    "\n",
    "    # Question 11\n",
    "plant_ds['Humidity '] = (plant_ds['Humidity '] == user_resp_df.loc[0,10]).astype(int)"
   ]
  },
  {
   "cell_type": "code",
   "execution_count": null,
   "metadata": {
    "slideshow": {
     "slide_type": "subslide"
    }
   },
   "outputs": [],
   "source": [
    "# Delete columns that we aren't using\n",
    "slim_plant_df = plant_ds[[\"Plant\", \"Plant taxonomy\", \"PlantSize\", \"Light \", \"Water \", \"TempDurability\", \"Humidity \", \"Flowering \", \"PotSize \", \"Pruning \", \"SpecialOccasion \", \"CleanAirPlant\", \"Toxicitylevel\"]]\n",
    "\n",
    "# Create a new column in this new dataset that sums all the ones and zeros\n",
    "slim_plant_df.loc[:, 'total'] = slim_plant_df.iloc[:, 1:].sum(axis=1)\n",
    "\n",
    "# Sort dataset by descending numbers of the \"sum column\"\n",
    "final_df = slim_plant_df.sort_values(by=['total'], ascending = False)\n",
    "final_df.head()\n",
    "\n",
    "print(\"Top 5 Plants selected.\\n\")"
   ]
  },
  {
   "cell_type": "markdown",
   "metadata": {
    "slideshow": {
     "slide_type": "slide"
    }
   },
   "source": [
    "# Displaying Results\n",
    "\n",
    "Displays the top 5 plants in a horizontal bar plot with the percentage match\n",
    "\n",
    "Allows the user to select one of the plants for more information"
   ]
  },
  {
   "cell_type": "code",
   "execution_count": null,
   "metadata": {
    "colab": {
     "base_uri": "https://localhost:8080/",
     "height": 1477
    },
    "colab_type": "code",
    "id": "QFT0ZKm-kFWB",
    "outputId": "c5a23a56-3dc8-41c2-b488-a2f6b6f18eb4",
    "scrolled": false,
    "slideshow": {
     "slide_type": "subslide"
    }
   },
   "outputs": [],
   "source": [
    "# Display the top 5 plants\n",
    "\n",
    "# Show horizontal bar plot with results\n",
    "def showplot():\n",
    "    '''Show horizontal bar plot with results.'''\n",
    "    y_plants = []\n",
    "    x_perc = []\n",
    "\n",
    "    for ii in range(0,5):\n",
    "      y_plants = np.append(y_plants,str(ii+1)+\". \"+str(final_df.iloc[ii,0]))\n",
    "      x_perc = np.append(x_perc,round(100*(final_df.iloc[ii,13]/11),1))\n",
    "\n",
    "    plt.rcdefaults()\n",
    "    fig, ax = plt.subplots()\n",
    "\n",
    "    y_pos = np.arange(len(y_plants))\n",
    "    ax.barh(y_pos, x_perc, align='center',\n",
    "            color='green')\n",
    "    ax.set_yticks(y_pos)\n",
    "    ax.set_yticklabels(y_plants)\n",
    "    ax.invert_yaxis()  # labels read top-to-bottom\n",
    "    ax.set_xlabel('Percentage Match %')\n",
    "    ax.set_title('Your top 5 plants')\n",
    "    ax.set_xlim([0,100])\n",
    "\n",
    "    for i, v in enumerate(x_perc):\n",
    "        perc_label = str(v)+\"%\"\n",
    "        ax.text(v + 3, i + .05, perc_label, color='black', fontweight='bold')\n",
    "    plt.show()"
   ]
  },
  {
   "cell_type": "code",
   "execution_count": null,
   "metadata": {
    "slideshow": {
     "slide_type": "subslide"
    }
   },
   "outputs": [],
   "source": [
    "# Initializes the number of the plant you want to know more about\n",
    "#Rename the row labels as the plant name\n",
    "#pod.head()\n",
    "pod = plant_orig_ds\n",
    "pod.set_index(\"Plant\", inplace=True) \n",
    "\n",
    "def displayinfo():\n",
    "    '''Display information about the plant you select.'''\n",
    "    pn = 0\n",
    "    # Accept user input\n",
    "    pn = int(input('Please enter the number of a plant you are interested in, or type 0: '))-1\n",
    "\n",
    "    # Keep asking for user input and displaying plant information until the user enters 0 (and pn = -1)\n",
    "    while pn != -1:\n",
    "        plantname = str(final_df.iloc[pn,0])\n",
    "        print(\"Plant name:\",plantname)\n",
    "        print(\"\\nPlant Characteristics:\")\n",
    "    \n",
    "        print(\"\\tPlant taxonomy:\",plant_orig_ds.loc[plantname,'Plant taxonomy'])\n",
    "        print(\"\\tPlant size:\",plant_orig_ds.loc[plantname,'PlantSize'])\n",
    "        print(\"\\tPot size:\",plant_orig_ds.loc[plantname,'PotSize '])\n",
    "        print(\"\\tFlowers:\",plant_orig_ds.loc[plantname,'Flowering '])\n",
    "    \n",
    "        print(\"\\nLifestyle:\")\n",
    "        print(\"\\tToxicity Level:\",plant_orig_ds.loc[plantname,'Toxicitylevel'])\n",
    "        print(\"\\tTemperature Range:\",plant_orig_ds.loc[plantname,\"Temp_low (degF)\"],\"-\",plant_orig_ds.loc[plantname,\"Temp_high (degF)\"],\"degF\")\n",
    "        print(\"\\tHumidity Level:\",plant_orig_ds.loc[plantname,'Humidity '])\n",
    "        print(\"\\tGood For a Special Occasion?\",plant_orig_ds.loc[plantname,'SpecialOccasion '])\n",
    "        print(\"\\tClean Air Plant:\",plant_orig_ds.loc[plantname,'CleanAirPlant'])\n",
    "    \n",
    "        print(\"\\nPlant Care:\")\n",
    "        print(\"\\tSunlight:\",plant_orig_ds.loc[plantname,'Light '])\n",
    "        print(\"\\tWater:\",plant_orig_ds.loc[plantname,'Water '])\n",
    "        print(\"\\tPests:\",plant_orig_ds.loc[plantname,'Pests '])\n",
    "        print(\"\\tPruning:\",plant_orig_ds.loc[plantname,'Pruning '])\n",
    "\n",
    "        print(\"\\nPlant Care Recommendations:\")\n",
    "        print(\"\\tBest type(s) of soil to use:\",plant_orig_ds.loc[plantname,'Soil '], \"soil\")\n",
    "        print(\"\\tBest way(s) to propagate:\",plant_orig_ds.loc[plantname,\"Propogation (multiple options)\"])\n",
    "        print(\"\\n\")\n",
    "    \n",
    "        pn = int(input('Please enter the number of a plant you are interested in, or type 0: '))-1\n",
    "        print(\"\\n\")\n",
    "  \n",
    "    print(\"Thank you for taking the plant quiz! We hope you have decided on a great plant!\")\n",
    "    print(\"Please visit https://www.houseplant411.com/houseplant for more info on these plants!\")"
   ]
  },
  {
   "cell_type": "code",
   "execution_count": null,
   "metadata": {
    "slideshow": {
     "slide_type": "subslide"
    }
   },
   "outputs": [],
   "source": [
    "showplot()"
   ]
  },
  {
   "cell_type": "code",
   "execution_count": null,
   "metadata": {
    "slideshow": {
     "slide_type": "subslide"
    }
   },
   "outputs": [],
   "source": [
    "displayinfo()"
   ]
  }
 ],
 "metadata": {
  "colab": {
   "collapsed_sections": [],
   "name": "PlantProject.ipynb",
   "provenance": [],
   "version": "0.3.2"
  },
  "kernelspec": {
   "display_name": "Python 3",
   "language": "python",
   "name": "python3"
  },
  "language_info": {
   "codemirror_mode": {
    "name": "ipython",
    "version": 3
   },
   "file_extension": ".py",
   "mimetype": "text/x-python",
   "name": "python",
   "nbconvert_exporter": "python",
   "pygments_lexer": "ipython3",
   "version": "3.7.1"
  }
 },
 "nbformat": 4,
 "nbformat_minor": 1
}
